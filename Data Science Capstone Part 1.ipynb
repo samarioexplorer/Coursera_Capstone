{
 "cells": [
  {
   "cell_type": "markdown",
   "metadata": {},
   "source": [
    "Notebook used mainly for the Data Science Capstone project"
   ]
  },
  {
   "cell_type": "code",
   "execution_count": 1,
   "metadata": {},
   "outputs": [],
   "source": [
    "# Import the Pandas package\n",
    "import pandas as pd\n",
    "\n",
    "# Import the NumPy package\n",
    "import numpy as np"
   ]
  },
  {
   "cell_type": "code",
   "execution_count": 2,
   "metadata": {},
   "outputs": [
    {
     "name": "stdout",
     "output_type": "stream",
     "text": [
      "Hello Capstone Project Course!\n"
     ]
    }
   ],
   "source": [
    "print ('Hello Capstone Project Course!')"
   ]
  },
  {
   "cell_type": "markdown",
   "metadata": {},
   "source": [
    "### Segmenting and Clustering Neighborhoods in Toronto"
   ]
  },
  {
   "cell_type": "code",
   "execution_count": null,
   "metadata": {},
   "outputs": [],
   "source": [
    "import pandas as pd\n",
    "import numpy as np\n",
    "from bs4 import BeautifulSoup\n",
    "import requests\n",
    "from pandas.io.json import json_normalize\n",
    "import matplotlib.cm as cm\n",
    "import matplotlib.colors as colors\n",
    "from sklearn.cluster import KMeans"
   ]
  },
  {
   "cell_type": "markdown",
   "metadata": {},
   "source": [
    "### Part 1"
   ]
  },
  {
   "cell_type": "markdown",
   "metadata": {},
   "source": [
    "### Get HTML data from wikipedia"
   ]
  },
  {
   "cell_type": "code",
   "execution_count": 7,
   "metadata": {},
   "outputs": [],
   "source": [
    "Canada_M = requests.get('https://en.wikipedia.org/wiki/List_of_postal_codes_of_Canada:_M').text"
   ]
  },
  {
   "cell_type": "markdown",
   "metadata": {},
   "source": [
    "### Scrape PostalCode, Borough, Neighborhood from HTML using BeautifulSoup"
   ]
  },
  {
   "cell_type": "code",
   "execution_count": 8,
   "metadata": {},
   "outputs": [],
   "source": [
    "# soup = BeautifulSoup(open(\"Canada_M.htm\"), \"lxml\")\n",
    "soup = BeautifulSoup(Canada_M, \"lxml\")"
   ]
  },
  {
   "cell_type": "code",
   "execution_count": 11,
   "metadata": {},
   "outputs": [
    {
     "data": {
      "text/html": [
       "<div>\n",
       "<style scoped>\n",
       "    .dataframe tbody tr th:only-of-type {\n",
       "        vertical-align: middle;\n",
       "    }\n",
       "\n",
       "    .dataframe tbody tr th {\n",
       "        vertical-align: top;\n",
       "    }\n",
       "\n",
       "    .dataframe thead th {\n",
       "        text-align: right;\n",
       "    }\n",
       "</style>\n",
       "<table border=\"1\" class=\"dataframe\">\n",
       "  <thead>\n",
       "    <tr style=\"text-align: right;\">\n",
       "      <th></th>\n",
       "      <th>PostalCode</th>\n",
       "      <th>Borough</th>\n",
       "      <th>Neighborhood</th>\n",
       "    </tr>\n",
       "  </thead>\n",
       "  <tbody>\n",
       "    <tr>\n",
       "      <td>0</td>\n",
       "      <td>M1A\\n</td>\n",
       "      <td>Not assigned\\n</td>\n",
       "      <td></td>\n",
       "    </tr>\n",
       "    <tr>\n",
       "      <td>1</td>\n",
       "      <td>M2A\\n</td>\n",
       "      <td>Not assigned\\n</td>\n",
       "      <td></td>\n",
       "    </tr>\n",
       "    <tr>\n",
       "      <td>2</td>\n",
       "      <td>M3A\\n</td>\n",
       "      <td>North York\\n</td>\n",
       "      <td>Parkwoods</td>\n",
       "    </tr>\n",
       "    <tr>\n",
       "      <td>3</td>\n",
       "      <td>M4A\\n</td>\n",
       "      <td>North York\\n</td>\n",
       "      <td>Victoria Village</td>\n",
       "    </tr>\n",
       "    <tr>\n",
       "      <td>4</td>\n",
       "      <td>M5A\\n</td>\n",
       "      <td>Downtown Toronto\\n</td>\n",
       "      <td>Regent Park / Harbourfront</td>\n",
       "    </tr>\n",
       "  </tbody>\n",
       "</table>\n",
       "</div>"
      ],
      "text/plain": [
       "  PostalCode             Borough                Neighborhood\n",
       "0      M1A\\n      Not assigned\\n                            \n",
       "1      M2A\\n      Not assigned\\n                            \n",
       "2      M3A\\n        North York\\n                   Parkwoods\n",
       "3      M4A\\n        North York\\n            Victoria Village\n",
       "4      M5A\\n  Downtown Toronto\\n  Regent Park / Harbourfront"
      ]
     },
     "execution_count": 11,
     "metadata": {},
     "output_type": "execute_result"
    }
   ],
   "source": [
    "# Create a dataframe makes up of three columns: PostalCode, Borough, and Neighborhood\n",
    "PostalCode = []\n",
    "Borough = []\n",
    "Neighborhood = []\n",
    "\n",
    "for data in soup.tbody.find_all('tr')[1:]:\n",
    "    PostalCode.append(data.find('td').text)\n",
    "    Borough.append(data.find_all('td')[1].text)\n",
    "    Neighborhood.append(data.find_all('td')[2].text[:-1])\n",
    "df.head()"
   ]
  },
  {
   "cell_type": "code",
   "execution_count": 13,
   "metadata": {},
   "outputs": [
    {
     "data": {
      "text/html": [
       "<div>\n",
       "<style scoped>\n",
       "    .dataframe tbody tr th:only-of-type {\n",
       "        vertical-align: middle;\n",
       "    }\n",
       "\n",
       "    .dataframe tbody tr th {\n",
       "        vertical-align: top;\n",
       "    }\n",
       "\n",
       "    .dataframe thead th {\n",
       "        text-align: right;\n",
       "    }\n",
       "</style>\n",
       "<table border=\"1\" class=\"dataframe\">\n",
       "  <thead>\n",
       "    <tr style=\"text-align: right;\">\n",
       "      <th></th>\n",
       "      <th>PostalCode</th>\n",
       "      <th>Borough</th>\n",
       "      <th>Neighborhood</th>\n",
       "    </tr>\n",
       "  </thead>\n",
       "  <tbody>\n",
       "    <tr>\n",
       "      <td>0</td>\n",
       "      <td>M3A\\n</td>\n",
       "      <td>North York\\n</td>\n",
       "      <td>Parkwoods</td>\n",
       "    </tr>\n",
       "    <tr>\n",
       "      <td>1</td>\n",
       "      <td>M4A\\n</td>\n",
       "      <td>North York\\n</td>\n",
       "      <td>Victoria Village</td>\n",
       "    </tr>\n",
       "    <tr>\n",
       "      <td>2</td>\n",
       "      <td>M5A\\n</td>\n",
       "      <td>Downtown Toronto\\n</td>\n",
       "      <td>Regent Park / Harbourfront</td>\n",
       "    </tr>\n",
       "    <tr>\n",
       "      <td>3</td>\n",
       "      <td>M6A\\n</td>\n",
       "      <td>North York\\n</td>\n",
       "      <td>Lawrence Manor / Lawrence Heights</td>\n",
       "    </tr>\n",
       "    <tr>\n",
       "      <td>4</td>\n",
       "      <td>M7A\\n</td>\n",
       "      <td>Downtown Toronto\\n</td>\n",
       "      <td>Queen's Park / Ontario Provincial Government</td>\n",
       "    </tr>\n",
       "  </tbody>\n",
       "</table>\n",
       "</div>"
      ],
      "text/plain": [
       "  PostalCode             Borough                                  Neighborhood\n",
       "0      M3A\\n        North York\\n                                     Parkwoods\n",
       "1      M4A\\n        North York\\n                              Victoria Village\n",
       "2      M5A\\n  Downtown Toronto\\n                    Regent Park / Harbourfront\n",
       "3      M6A\\n        North York\\n             Lawrence Manor / Lawrence Heights\n",
       "4      M7A\\n  Downtown Toronto\\n  Queen's Park / Ontario Provincial Government"
      ]
     },
     "execution_count": 13,
     "metadata": {},
     "output_type": "execute_result"
    }
   ],
   "source": [
    "# Only process the cells that have an assigned borough. Ignore cells with a borough that is Not assigned.\n",
    "\n",
    "data = {'PostalCode': PostalCode,\n",
    "        'Borough': Borough,\n",
    "        'Neighborhood': Neighborhood}\n",
    "df = pd.DataFrame(data)\n",
    "# Drop rows where Borough is 'Not assigned', then reset index\n",
    "df = df[df.Borough != 'Not assigned\\n'].reset_index().drop('index', axis = 1)\n",
    "df.head()"
   ]
  },
  {
   "cell_type": "markdown",
   "metadata": {},
   "source": [
    "### More than one neighborhood can exist in one postal code area, these two rows will be combined into one row with the neighborhoods"
   ]
  },
  {
   "cell_type": "code",
   "execution_count": 14,
   "metadata": {},
   "outputs": [],
   "source": [
    "i = 1\n",
    "while(i < len(df)):\n",
    "    if df['PostalCode'].iloc[i] == df['PostalCode'].iloc[i - 1]:\n",
    "        df.at[i - 1, 'Neighborhood'] = df.Neighborhood.iloc[i - 1] +', ' + df.Neighborhood.iloc[i]\n",
    "        df.drop(index = i, inplace = True)\n",
    "        df = df.reset_index().drop('index', axis = 1)\n",
    "    else:\n",
    "        i += 1"
   ]
  },
  {
   "cell_type": "code",
   "execution_count": 20,
   "metadata": {},
   "outputs": [
    {
     "data": {
      "text/html": [
       "<div>\n",
       "<style scoped>\n",
       "    .dataframe tbody tr th:only-of-type {\n",
       "        vertical-align: middle;\n",
       "    }\n",
       "\n",
       "    .dataframe tbody tr th {\n",
       "        vertical-align: top;\n",
       "    }\n",
       "\n",
       "    .dataframe thead th {\n",
       "        text-align: right;\n",
       "    }\n",
       "</style>\n",
       "<table border=\"1\" class=\"dataframe\">\n",
       "  <thead>\n",
       "    <tr style=\"text-align: right;\">\n",
       "      <th></th>\n",
       "      <th>PostalCode</th>\n",
       "      <th>Borough</th>\n",
       "      <th>Neighborhood</th>\n",
       "    </tr>\n",
       "  </thead>\n",
       "  <tbody>\n",
       "    <tr>\n",
       "      <td>0</td>\n",
       "      <td>M3A\\n</td>\n",
       "      <td>North York\\n</td>\n",
       "      <td>Parkwoods</td>\n",
       "    </tr>\n",
       "    <tr>\n",
       "      <td>1</td>\n",
       "      <td>M4A\\n</td>\n",
       "      <td>North York\\n</td>\n",
       "      <td>Victoria Village</td>\n",
       "    </tr>\n",
       "    <tr>\n",
       "      <td>2</td>\n",
       "      <td>M5A\\n</td>\n",
       "      <td>Downtown Toronto\\n</td>\n",
       "      <td>Regent Park / Harbourfront</td>\n",
       "    </tr>\n",
       "    <tr>\n",
       "      <td>3</td>\n",
       "      <td>M6A\\n</td>\n",
       "      <td>North York\\n</td>\n",
       "      <td>Lawrence Manor / Lawrence Heights</td>\n",
       "    </tr>\n",
       "    <tr>\n",
       "      <td>4</td>\n",
       "      <td>M7A\\n</td>\n",
       "      <td>Downtown Toronto\\n</td>\n",
       "      <td>Queen's Park / Ontario Provincial Government</td>\n",
       "    </tr>\n",
       "    <tr>\n",
       "      <td>5</td>\n",
       "      <td>M9A\\n</td>\n",
       "      <td>Etobicoke\\n</td>\n",
       "      <td>Islington Avenue</td>\n",
       "    </tr>\n",
       "    <tr>\n",
       "      <td>6</td>\n",
       "      <td>M1B\\n</td>\n",
       "      <td>Scarborough\\n</td>\n",
       "      <td>Malvern / Rouge</td>\n",
       "    </tr>\n",
       "    <tr>\n",
       "      <td>7</td>\n",
       "      <td>M3B\\n</td>\n",
       "      <td>North York\\n</td>\n",
       "      <td>Don Mills</td>\n",
       "    </tr>\n",
       "    <tr>\n",
       "      <td>8</td>\n",
       "      <td>M4B\\n</td>\n",
       "      <td>East York\\n</td>\n",
       "      <td>Parkview Hill / Woodbine Gardens</td>\n",
       "    </tr>\n",
       "    <tr>\n",
       "      <td>9</td>\n",
       "      <td>M5B\\n</td>\n",
       "      <td>Downtown Toronto\\n</td>\n",
       "      <td>Garden District / Ryerson</td>\n",
       "    </tr>\n",
       "  </tbody>\n",
       "</table>\n",
       "</div>"
      ],
      "text/plain": [
       "  PostalCode             Borough                                  Neighborhood\n",
       "0      M3A\\n        North York\\n                                     Parkwoods\n",
       "1      M4A\\n        North York\\n                              Victoria Village\n",
       "2      M5A\\n  Downtown Toronto\\n                    Regent Park / Harbourfront\n",
       "3      M6A\\n        North York\\n             Lawrence Manor / Lawrence Heights\n",
       "4      M7A\\n  Downtown Toronto\\n  Queen's Park / Ontario Provincial Government\n",
       "5      M9A\\n         Etobicoke\\n                              Islington Avenue\n",
       "6      M1B\\n       Scarborough\\n                               Malvern / Rouge\n",
       "7      M3B\\n        North York\\n                                     Don Mills\n",
       "8      M4B\\n         East York\\n              Parkview Hill / Woodbine Gardens\n",
       "9      M5B\\n  Downtown Toronto\\n                     Garden District / Ryerson"
      ]
     },
     "execution_count": 20,
     "metadata": {},
     "output_type": "execute_result"
    }
   ],
   "source": [
    "df.head(10)"
   ]
  },
  {
   "cell_type": "markdown",
   "metadata": {},
   "source": [
    "### Print the number of rows of your dataframe by using .shape"
   ]
  },
  {
   "cell_type": "code",
   "execution_count": 21,
   "metadata": {},
   "outputs": [
    {
     "data": {
      "text/plain": [
       "(103, 3)"
      ]
     },
     "execution_count": 21,
     "metadata": {},
     "output_type": "execute_result"
    }
   ],
   "source": [
    "df.shape"
   ]
  },
  {
   "cell_type": "code",
   "execution_count": null,
   "metadata": {},
   "outputs": [],
   "source": []
  }
 ],
 "metadata": {
  "kernelspec": {
   "display_name": "Python 3",
   "language": "python",
   "name": "python3"
  },
  "language_info": {
   "codemirror_mode": {
    "name": "ipython",
    "version": 3
   },
   "file_extension": ".py",
   "mimetype": "text/x-python",
   "name": "python",
   "nbconvert_exporter": "python",
   "pygments_lexer": "ipython3",
   "version": "3.7.4"
  }
 },
 "nbformat": 4,
 "nbformat_minor": 2
}
